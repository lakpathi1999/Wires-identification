{
 "cells": [
  {
   "cell_type": "markdown",
   "metadata": {},
   "source": [
    "# requirements\n",
    "tensorflow,\n",
    "skimage,\n",
    "numpy,\n",
    "image folders"
   ]
  },
  {
   "cell_type": "code",
   "execution_count": 1,
   "metadata": {},
   "outputs": [
    {
     "name": "stdout",
     "output_type": "stream",
     "text": [
      "Requirement already satisfied: tensorflow in c:\\users\\ratan\\anaconda3\\installation\\lib\\site-packages (2.6.0)\n",
      "Requirement already satisfied: flatbuffers~=1.12.0 in c:\\users\\ratan\\anaconda3\\installation\\lib\\site-packages (from tensorflow) (1.12)\n",
      "Requirement already satisfied: six~=1.15.0 in c:\\users\\ratan\\anaconda3\\installation\\lib\\site-packages (from tensorflow) (1.15.0)\n",
      "Requirement already satisfied: absl-py~=0.10 in c:\\users\\ratan\\anaconda3\\installation\\lib\\site-packages (from tensorflow) (0.13.0)\n",
      "Requirement already satisfied: h5py~=3.1.0 in c:\\users\\ratan\\anaconda3\\installation\\lib\\site-packages (from tensorflow) (3.1.0)\n",
      "Requirement already satisfied: termcolor~=1.1.0 in c:\\users\\ratan\\anaconda3\\installation\\lib\\site-packages (from tensorflow) (1.1.0)\n",
      "Requirement already satisfied: keras~=2.6 in c:\\users\\ratan\\anaconda3\\installation\\lib\\site-packages (from tensorflow) (2.6.0)\n",
      "Requirement already satisfied: astunparse~=1.6.3 in c:\\users\\ratan\\anaconda3\\installation\\lib\\site-packages (from tensorflow) (1.6.3)\n",
      "Requirement already satisfied: clang~=5.0 in c:\\users\\ratan\\anaconda3\\installation\\lib\\site-packages (from tensorflow) (5.0)\n",
      "Requirement already satisfied: gast==0.4.0 in c:\\users\\ratan\\anaconda3\\installation\\lib\\site-packages (from tensorflow) (0.4.0)\n",
      "Requirement already satisfied: wheel~=0.35 in c:\\users\\ratan\\anaconda3\\installation\\lib\\site-packages (from tensorflow) (0.37.0)\n",
      "Requirement already satisfied: keras-preprocessing~=1.1.2 in c:\\users\\ratan\\anaconda3\\installation\\lib\\site-packages (from tensorflow) (1.1.2)\n",
      "Requirement already satisfied: grpcio<2.0,>=1.37.0 in c:\\users\\ratan\\anaconda3\\installation\\lib\\site-packages (from tensorflow) (1.39.0)\n",
      "Requirement already satisfied: numpy~=1.19.2 in c:\\users\\ratan\\anaconda3\\installation\\lib\\site-packages (from tensorflow) (1.19.5)\n",
      "Requirement already satisfied: google-pasta~=0.2 in c:\\users\\ratan\\anaconda3\\installation\\lib\\site-packages (from tensorflow) (0.2.0)\n",
      "Requirement already satisfied: opt-einsum~=3.3.0 in c:\\users\\ratan\\anaconda3\\installation\\lib\\site-packages (from tensorflow) (3.3.0)\n",
      "Requirement already satisfied: tensorboard~=2.6 in c:\\users\\ratan\\anaconda3\\installation\\lib\\site-packages (from tensorflow) (2.6.0)\n",
      "Requirement already satisfied: tensorflow-estimator~=2.6 in c:\\users\\ratan\\anaconda3\\installation\\lib\\site-packages (from tensorflow) (2.6.0)\n",
      "Requirement already satisfied: protobuf>=3.9.2 in c:\\users\\ratan\\anaconda3\\installation\\lib\\site-packages (from tensorflow) (3.17.2)\n",
      "Requirement already satisfied: wrapt~=1.12.1 in c:\\users\\ratan\\anaconda3\\installation\\lib\\site-packages (from tensorflow) (1.12.1)\n",
      "Requirement already satisfied: typing-extensions~=3.7.4 in c:\\users\\ratan\\anaconda3\\installation\\lib\\site-packages (from tensorflow) (3.7.4.3)\n",
      "Requirement already satisfied: cached-property; python_version < \"3.8\" in c:\\users\\ratan\\anaconda3\\installation\\lib\\site-packages (from h5py~=3.1.0->tensorflow) (1.5.2)\n",
      "Requirement already satisfied: markdown>=2.6.8 in c:\\users\\ratan\\anaconda3\\installation\\lib\\site-packages (from tensorboard~=2.6->tensorflow) (3.3.4)\n",
      "Requirement already satisfied: setuptools>=41.0.0 in c:\\users\\ratan\\anaconda3\\installation\\lib\\site-packages (from tensorboard~=2.6->tensorflow) (45.2.0.post20200210)\n",
      "Requirement already satisfied: requests<3,>=2.21.0 in c:\\users\\ratan\\anaconda3\\installation\\lib\\site-packages (from tensorboard~=2.6->tensorflow) (2.22.0)\n",
      "Requirement already satisfied: tensorboard-plugin-wit>=1.6.0 in c:\\users\\ratan\\anaconda3\\installation\\lib\\site-packages (from tensorboard~=2.6->tensorflow) (1.8.0)\n",
      "Requirement already satisfied: werkzeug>=0.11.15 in c:\\users\\ratan\\anaconda3\\installation\\lib\\site-packages (from tensorboard~=2.6->tensorflow) (1.0.0)\n",
      "Requirement already satisfied: google-auth<2,>=1.6.3 in c:\\users\\ratan\\anaconda3\\installation\\lib\\site-packages (from tensorboard~=2.6->tensorflow) (1.35.0)\n",
      "Requirement already satisfied: tensorboard-data-server<0.7.0,>=0.6.0 in c:\\users\\ratan\\anaconda3\\installation\\lib\\site-packages (from tensorboard~=2.6->tensorflow) (0.6.1)\n",
      "Requirement already satisfied: google-auth-oauthlib<0.5,>=0.4.1 in c:\\users\\ratan\\anaconda3\\installation\\lib\\site-packages (from tensorboard~=2.6->tensorflow) (0.4.5)\n",
      "Requirement already satisfied: importlib-metadata; python_version < \"3.8\" in c:\\users\\ratan\\anaconda3\\installation\\lib\\site-packages (from markdown>=2.6.8->tensorboard~=2.6->tensorflow) (3.10.0)\n",
      "Requirement already satisfied: idna<2.9,>=2.5 in c:\\users\\ratan\\anaconda3\\installation\\lib\\site-packages (from requests<3,>=2.21.0->tensorboard~=2.6->tensorflow) (2.8)\n",
      "Requirement already satisfied: urllib3!=1.25.0,!=1.25.1,<1.26,>=1.21.1 in c:\\users\\ratan\\anaconda3\\installation\\lib\\site-packages (from requests<3,>=2.21.0->tensorboard~=2.6->tensorflow) (1.25.8)\n",
      "Requirement already satisfied: chardet<3.1.0,>=3.0.2 in c:\\users\\ratan\\anaconda3\\installation\\lib\\site-packages (from requests<3,>=2.21.0->tensorboard~=2.6->tensorflow) (3.0.4)\n",
      "Requirement already satisfied: certifi>=2017.4.17 in c:\\users\\ratan\\anaconda3\\installation\\lib\\site-packages (from requests<3,>=2.21.0->tensorboard~=2.6->tensorflow) (2019.11.28)\n",
      "Requirement already satisfied: pyasn1-modules>=0.2.1 in c:\\users\\ratan\\anaconda3\\installation\\lib\\site-packages (from google-auth<2,>=1.6.3->tensorboard~=2.6->tensorflow) (0.2.8)\n",
      "Requirement already satisfied: rsa<5,>=3.1.4; python_version >= \"3.6\" in c:\\users\\ratan\\anaconda3\\installation\\lib\\site-packages (from google-auth<2,>=1.6.3->tensorboard~=2.6->tensorflow) (4.7.2)\n",
      "Requirement already satisfied: cachetools<5.0,>=2.0.0 in c:\\users\\ratan\\anaconda3\\installation\\lib\\site-packages (from google-auth<2,>=1.6.3->tensorboard~=2.6->tensorflow) (4.2.2)\n",
      "Requirement already satisfied: requests-oauthlib>=0.7.0 in c:\\users\\ratan\\anaconda3\\installation\\lib\\site-packages (from google-auth-oauthlib<0.5,>=0.4.1->tensorboard~=2.6->tensorflow) (1.3.0)\n",
      "Requirement already satisfied: zipp>=0.5 in c:\\users\\ratan\\anaconda3\\installation\\lib\\site-packages (from importlib-metadata; python_version < \"3.8\"->markdown>=2.6.8->tensorboard~=2.6->tensorflow) (2.2.0)\n",
      "Requirement already satisfied: pyasn1<0.5.0,>=0.4.6 in c:\\users\\ratan\\anaconda3\\installation\\lib\\site-packages (from pyasn1-modules>=0.2.1->google-auth<2,>=1.6.3->tensorboard~=2.6->tensorflow) (0.4.8)\n",
      "Requirement already satisfied: oauthlib>=3.0.0 in c:\\users\\ratan\\anaconda3\\installation\\lib\\site-packages (from requests-oauthlib>=0.7.0->google-auth-oauthlib<0.5,>=0.4.1->tensorboard~=2.6->tensorflow) (3.1.1)\n",
      "Note: you may need to restart the kernel to use updated packages.\n"
     ]
    }
   ],
   "source": [
    "pip install tensorflow"
   ]
  },
  {
   "cell_type": "code",
   "execution_count": 2,
   "metadata": {},
   "outputs": [],
   "source": [
    "from skimage.transform import resize\n",
    "from skimage import io\n",
    "\n",
    "import numpy as np\n",
    "import os\n",
    "\n",
    "import matplotlib.pyplot as plt\n",
    "%matplotlib inline"
   ]
  },
  {
   "cell_type": "code",
   "execution_count": 3,
   "metadata": {},
   "outputs": [],
   "source": [
    "def get_images(img_folder):\n",
    "    #os library is used to scan the folder and store the filenames of the images\n",
    "    filenames = [f.path for f in os.scandir(img_folder) if f.is_file() and f.path.endswith(('.png', '.jpg', '.jpeg'))]\n",
    "    print('length of given folder is ',len(filenames))\n",
    "    img = []\n",
    "    #this loop reads the images data and store into array\n",
    "    for i in range(len(filenames)):\n",
    "        img.append(plt.imread(filenames[i]))\n",
    "    res_img = []\n",
    "    # resizing of images done using resize function from skimage library\n",
    "    for i in range(len(img)) :\n",
    "        res_img.append(resize(img[i], (100,100)))\n",
    "    # converting list of images to array as neural network models take arrays as input not lists\n",
    "    import numpy as np\n",
    "    r_img = np.array(res_img)\n",
    "    return r_img"
   ]
  },
  {
   "cell_type": "code",
   "execution_count": 4,
   "metadata": {},
   "outputs": [
    {
     "name": "stdout",
     "output_type": "stream",
     "text": [
      "length of given folder is  295\n"
     ]
    }
   ],
   "source": [
    "A=get_images('positives')"
   ]
  },
  {
   "cell_type": "code",
   "execution_count": 5,
   "metadata": {},
   "outputs": [
    {
     "name": "stdout",
     "output_type": "stream",
     "text": [
      "length of given folder is  178\n"
     ]
    }
   ],
   "source": [
    "B=get_images('negatives')"
   ]
  },
  {
   "cell_type": "code",
   "execution_count": 6,
   "metadata": {},
   "outputs": [],
   "source": [
    "#we have read RGBA values of images, we need only RGB values so we have taken only first 3 values of each pixel\n",
    "A=A[:,:,:,:3]"
   ]
  },
  {
   "cell_type": "code",
   "execution_count": 7,
   "metadata": {},
   "outputs": [],
   "source": [
    "B=B[:,:,:,:3]"
   ]
  },
  {
   "cell_type": "code",
   "execution_count": 8,
   "metadata": {},
   "outputs": [],
   "source": [
    "a=[]\n",
    "b=[]\n",
    "for i in range(len(A)):\n",
    "    a.append(1)\n",
    "for i in range(len(B)):\n",
    "    b.append(0)"
   ]
  },
  {
   "cell_type": "code",
   "execution_count": 9,
   "metadata": {},
   "outputs": [],
   "source": [
    "X=np.array(list(A)+list(B))\n",
    "y=np.array(a+b)"
   ]
  },
  {
   "cell_type": "code",
   "execution_count": 10,
   "metadata": {},
   "outputs": [],
   "source": [
    "#splitting data into training, testing and validation\n",
    "from sklearn.model_selection import train_test_split\n",
    "X_train, X_test, y_train, y_test = train_test_split(X,y, test_size=0.15)\n",
    "X_train, X_val, y_train, y_val = train_test_split(X_train, y_train, test_size=0.15)\n",
    "from tensorflow.keras.optimizers import SGD\n",
    "from keras.regularizers import l2"
   ]
  },
  {
   "cell_type": "code",
   "execution_count": 11,
   "metadata": {},
   "outputs": [],
   "source": [
    "#creating neural network model\n",
    "from tensorflow.keras.models import Sequential\n",
    "from tensorflow.keras.layers import Dense,Dropout,Conv2D,BatchNormalization,Flatten,MaxPool2D\n",
    "model=Sequential()\n",
    "model.add(Conv2D(input_shape=(100,100,3),filters=64,kernel_size=(5,5),padding='Same',activation='relu'))\n",
    "model.add(Conv2D(filters=64,kernel_size=(5,5),padding='Same',activation='relu'))\n",
    "model.add(MaxPool2D((2,2)))\n",
    "model.add(Flatten())\n",
    "model.add(BatchNormalization())          \n",
    "model.add(Dense(78,activation='relu'))\n",
    "model.add(Dropout(0.5))\n",
    "model.add(Dense(50,activation='relu'))\n",
    "model.add(Dropout(0.5))\n",
    "model.add(BatchNormalization())          \n",
    "model.add(Dense(1,activation='sigmoid'))\n",
    "model.compile(loss='binary_crossentropy',optimizer='adam',metrics=['accuracy'])"
   ]
  },
  {
   "cell_type": "code",
   "execution_count": 12,
   "metadata": {},
   "outputs": [
    {
     "name": "stdout",
     "output_type": "stream",
     "text": [
      "Model: \"sequential\"\n",
      "_________________________________________________________________\n",
      "Layer (type)                 Output Shape              Param #   \n",
      "=================================================================\n",
      "conv2d (Conv2D)              (None, 100, 100, 64)      4864      \n",
      "_________________________________________________________________\n",
      "conv2d_1 (Conv2D)            (None, 100, 100, 64)      102464    \n",
      "_________________________________________________________________\n",
      "max_pooling2d (MaxPooling2D) (None, 50, 50, 64)        0         \n",
      "_________________________________________________________________\n",
      "flatten (Flatten)            (None, 160000)            0         \n",
      "_________________________________________________________________\n",
      "batch_normalization (BatchNo (None, 160000)            640000    \n",
      "_________________________________________________________________\n",
      "dense (Dense)                (None, 78)                12480078  \n",
      "_________________________________________________________________\n",
      "dropout (Dropout)            (None, 78)                0         \n",
      "_________________________________________________________________\n",
      "dense_1 (Dense)              (None, 50)                3950      \n",
      "_________________________________________________________________\n",
      "dropout_1 (Dropout)          (None, 50)                0         \n",
      "_________________________________________________________________\n",
      "batch_normalization_1 (Batch (None, 50)                200       \n",
      "_________________________________________________________________\n",
      "dense_2 (Dense)              (None, 1)                 51        \n",
      "=================================================================\n",
      "Total params: 13,231,607\n",
      "Trainable params: 12,911,507\n",
      "Non-trainable params: 320,100\n",
      "_________________________________________________________________\n"
     ]
    }
   ],
   "source": [
    "#displaying our model architecture\n",
    "model.summary()"
   ]
  },
  {
   "cell_type": "code",
   "execution_count": 13,
   "metadata": {},
   "outputs": [
    {
     "data": {
      "text/plain": [
       "295"
      ]
     },
     "execution_count": 13,
     "metadata": {},
     "output_type": "execute_result"
    }
   ],
   "source": [
    "len(a)"
   ]
  },
  {
   "cell_type": "code",
   "execution_count": 14,
   "metadata": {},
   "outputs": [
    {
     "data": {
      "text/plain": [
       "178"
      ]
     },
     "execution_count": 14,
     "metadata": {},
     "output_type": "execute_result"
    }
   ],
   "source": [
    "len(b)"
   ]
  },
  {
   "cell_type": "code",
   "execution_count": 15,
   "metadata": {},
   "outputs": [
    {
     "name": "stdout",
     "output_type": "stream",
     "text": [
      "Epoch 1/15\n",
      "7/7 [==============================] - 23s 3s/step - loss: 0.8235 - accuracy: 0.5161 - val_loss: 0.6772 - val_accuracy: 0.6393\n",
      "Epoch 2/15\n",
      "7/7 [==============================] - 23s 3s/step - loss: 0.7436 - accuracy: 0.5572 - val_loss: 0.7544 - val_accuracy: 0.3279\n",
      "Epoch 3/15\n",
      "7/7 [==============================] - 23s 3s/step - loss: 0.7199 - accuracy: 0.5894 - val_loss: 0.7740 - val_accuracy: 0.3279\n",
      "Epoch 4/15\n",
      "7/7 [==============================] - 24s 3s/step - loss: 0.7664 - accuracy: 0.5806 - val_loss: 0.7659 - val_accuracy: 0.3279\n",
      "Epoch 5/15\n",
      "7/7 [==============================] - 25s 4s/step - loss: 0.7162 - accuracy: 0.5630 - val_loss: 0.7764 - val_accuracy: 0.3279\n",
      "Epoch 6/15\n",
      "7/7 [==============================] - 26s 4s/step - loss: 0.6802 - accuracy: 0.6452 - val_loss: 0.7573 - val_accuracy: 0.4426\n",
      "Epoch 7/15\n",
      "7/7 [==============================] - 27s 4s/step - loss: 0.6871 - accuracy: 0.6305 - val_loss: 0.7287 - val_accuracy: 0.4754\n",
      "Epoch 8/15\n",
      "7/7 [==============================] - 25s 4s/step - loss: 0.6448 - accuracy: 0.6364 - val_loss: 0.7209 - val_accuracy: 0.4918\n",
      "Epoch 9/15\n",
      "7/7 [==============================] - 25s 4s/step - loss: 0.6454 - accuracy: 0.6217 - val_loss: 0.7291 - val_accuracy: 0.4754\n",
      "Epoch 10/15\n",
      "7/7 [==============================] - 25s 4s/step - loss: 0.6604 - accuracy: 0.6129 - val_loss: 0.6891 - val_accuracy: 0.5246\n",
      "Epoch 11/15\n",
      "7/7 [==============================] - 25s 4s/step - loss: 0.6199 - accuracy: 0.6598 - val_loss: 0.6608 - val_accuracy: 0.5410\n",
      "Epoch 12/15\n",
      "7/7 [==============================] - 24s 3s/step - loss: 0.6122 - accuracy: 0.6774 - val_loss: 0.6351 - val_accuracy: 0.6721\n",
      "Epoch 13/15\n",
      "7/7 [==============================] - 24s 4s/step - loss: 0.6350 - accuracy: 0.6686 - val_loss: 0.6306 - val_accuracy: 0.6721\n",
      "Epoch 14/15\n",
      "7/7 [==============================] - 25s 3s/step - loss: 0.5526 - accuracy: 0.6979 - val_loss: 0.6326 - val_accuracy: 0.6721\n",
      "Epoch 15/15\n",
      "7/7 [==============================] - 23s 3s/step - loss: 0.5789 - accuracy: 0.6979 - val_loss: 0.6407 - val_accuracy: 0.6721\n"
     ]
    }
   ],
   "source": [
    "#fitting data into our model by training our model using training data, also validating our model using validation data wether the accuracy is increasing or not\n",
    "history=model.fit(X_train,y_train,epochs=15,validation_data=(X_val,y_val),batch_size=50)"
   ]
  },
  {
   "cell_type": "code",
   "execution_count": 16,
   "metadata": {},
   "outputs": [
    {
     "data": {
      "text/plain": [
       "array([[0.7621274 ],\n",
       "       [0.6208139 ],\n",
       "       [0.71079946],\n",
       "       [0.65122527],\n",
       "       [0.6751142 ],\n",
       "       [0.61374855],\n",
       "       [0.6690086 ],\n",
       "       [0.61500156],\n",
       "       [0.7898059 ],\n",
       "       [0.64439833],\n",
       "       [0.65689194],\n",
       "       [0.63989055],\n",
       "       [0.67752767],\n",
       "       [0.6753013 ],\n",
       "       [0.6708923 ],\n",
       "       [0.62611943],\n",
       "       [0.6736397 ],\n",
       "       [0.6002961 ],\n",
       "       [0.6056671 ],\n",
       "       [0.55621505],\n",
       "       [0.5978639 ],\n",
       "       [0.5799786 ],\n",
       "       [0.64193267],\n",
       "       [0.7578726 ],\n",
       "       [0.62828964],\n",
       "       [0.64792573],\n",
       "       [0.5650449 ],\n",
       "       [0.52855945],\n",
       "       [0.5707708 ],\n",
       "       [0.6956539 ],\n",
       "       [0.6708272 ],\n",
       "       [0.6577907 ],\n",
       "       [0.6526509 ],\n",
       "       [0.67615557],\n",
       "       [0.62082255],\n",
       "       [0.6204947 ],\n",
       "       [0.55910206],\n",
       "       [0.6994965 ],\n",
       "       [0.65594286],\n",
       "       [0.51406044],\n",
       "       [0.5095894 ],\n",
       "       [0.6260866 ],\n",
       "       [0.6612827 ],\n",
       "       [0.5883089 ],\n",
       "       [0.6356479 ],\n",
       "       [0.7315733 ],\n",
       "       [0.6719444 ],\n",
       "       [0.72698915],\n",
       "       [0.6475848 ],\n",
       "       [0.72641283],\n",
       "       [0.6398024 ],\n",
       "       [0.6580043 ],\n",
       "       [0.56755763],\n",
       "       [0.6073646 ],\n",
       "       [0.6602217 ],\n",
       "       [0.6501121 ],\n",
       "       [0.64552575],\n",
       "       [0.6592671 ],\n",
       "       [0.7469323 ],\n",
       "       [0.62658006],\n",
       "       [0.6432589 ],\n",
       "       [0.6739334 ],\n",
       "       [0.66783774],\n",
       "       [0.69526654],\n",
       "       [0.72409725],\n",
       "       [0.61724365],\n",
       "       [0.53358454],\n",
       "       [0.57791126],\n",
       "       [0.6324242 ],\n",
       "       [0.56637794],\n",
       "       [0.5528069 ]], dtype=float32)"
      ]
     },
     "execution_count": 16,
     "metadata": {},
     "output_type": "execute_result"
    }
   ],
   "source": [
    "#gives the probability of our image having a wire\n",
    "pred=model.predict(X_test)\n",
    "pred"
   ]
  },
  {
   "cell_type": "code",
   "execution_count": 17,
   "metadata": {},
   "outputs": [],
   "source": [
    "L=[]\n",
    "for i in pred:\n",
    "    if i>0.65:\n",
    "        L.append(1)\n",
    "    else:\n",
    "        L.append(0)"
   ]
  },
  {
   "cell_type": "code",
   "execution_count": 18,
   "metadata": {},
   "outputs": [
    {
     "data": {
      "text/plain": [
       "array([1, 0, 1, 1, 1, 0, 1, 0, 1, 0, 1, 0, 1, 1, 1, 0, 1, 0, 0, 0, 0, 0,\n",
       "       0, 1, 0, 0, 0, 0, 0, 1, 1, 1, 1, 1, 0, 0, 0, 1, 1, 0, 0, 0, 1, 0,\n",
       "       0, 1, 1, 1, 0, 1, 0, 1, 0, 0, 1, 1, 0, 1, 1, 0, 0, 1, 1, 1, 1, 0,\n",
       "       0, 0, 0, 0, 0])"
      ]
     },
     "execution_count": 18,
     "metadata": {},
     "output_type": "execute_result"
    }
   ],
   "source": [
    "p=np.array(L)\n",
    "p"
   ]
  },
  {
   "cell_type": "code",
   "execution_count": 19,
   "metadata": {},
   "outputs": [
    {
     "name": "stdout",
     "output_type": "stream",
     "text": [
      "              precision    recall  f1-score   support\n",
      "\n",
      "           0       0.29      0.52      0.37        21\n",
      "           1       0.70      0.46      0.55        50\n",
      "\n",
      "    accuracy                           0.48        71\n",
      "   macro avg       0.49      0.49      0.46        71\n",
      "weighted avg       0.58      0.48      0.50        71\n",
      "\n"
     ]
    }
   ],
   "source": [
    "#preparing classification report\n",
    "from sklearn.metrics import classification_report\n",
    "print(classification_report(y_test,p))"
   ]
  },
  {
   "cell_type": "code",
   "execution_count": 20,
   "metadata": {},
   "outputs": [],
   "source": [
    "from tensorflow.keras.preprocessing.image import ImageDataGenerator\n"
   ]
  },
  {
   "cell_type": "code",
   "execution_count": 21,
   "metadata": {},
   "outputs": [],
   "source": [
    "from tensorflow.keras.layers import Input, Lambda, Dense, Flatten,Dropout\n",
    "from tensorflow.keras.models import Model\n",
    "from tensorflow.keras.applications.vgg19 import VGG19\n",
    "from tensorflow.keras.applications.vgg19 import preprocess_input\n",
    "from tensorflow.keras.preprocessing import image\n",
    "from tensorflow.keras.preprocessing.image import ImageDataGenerator\n",
    "from tensorflow.keras.models import Sequential\n",
    "import numpy as np\n",
    "import pandas as pd\n",
    "import os\n",
    "import cv2"
   ]
  },
  {
   "cell_type": "code",
   "execution_count": 22,
   "metadata": {},
   "outputs": [],
   "source": [
    "#using vgg architecture \n",
    "vgg = VGG19(input_shape=(100,100,3), weights='imagenet', include_top=False)\n",
    "#do not train the pre-trained layers of VGG-19\n",
    "for layer in vgg.layers:\n",
    "    layer.trainable = False"
   ]
  },
  {
   "cell_type": "code",
   "execution_count": 23,
   "metadata": {},
   "outputs": [],
   "source": [
    "x = Flatten()(vgg.output)\n",
    "prediction = Dense(1, activation='sigmoid')(x)\n",
    "#creating model\n",
    "model = Model(inputs=vgg.input, outputs=prediction)"
   ]
  },
  {
   "cell_type": "code",
   "execution_count": 24,
   "metadata": {},
   "outputs": [
    {
     "name": "stdout",
     "output_type": "stream",
     "text": [
      "Model: \"model\"\n",
      "_________________________________________________________________\n",
      "Layer (type)                 Output Shape              Param #   \n",
      "=================================================================\n",
      "input_1 (InputLayer)         [(None, 100, 100, 3)]     0         \n",
      "_________________________________________________________________\n",
      "block1_conv1 (Conv2D)        (None, 100, 100, 64)      1792      \n",
      "_________________________________________________________________\n",
      "block1_conv2 (Conv2D)        (None, 100, 100, 64)      36928     \n",
      "_________________________________________________________________\n",
      "block1_pool (MaxPooling2D)   (None, 50, 50, 64)        0         \n",
      "_________________________________________________________________\n",
      "block2_conv1 (Conv2D)        (None, 50, 50, 128)       73856     \n",
      "_________________________________________________________________\n",
      "block2_conv2 (Conv2D)        (None, 50, 50, 128)       147584    \n",
      "_________________________________________________________________\n",
      "block2_pool (MaxPooling2D)   (None, 25, 25, 128)       0         \n",
      "_________________________________________________________________\n",
      "block3_conv1 (Conv2D)        (None, 25, 25, 256)       295168    \n",
      "_________________________________________________________________\n",
      "block3_conv2 (Conv2D)        (None, 25, 25, 256)       590080    \n",
      "_________________________________________________________________\n",
      "block3_conv3 (Conv2D)        (None, 25, 25, 256)       590080    \n",
      "_________________________________________________________________\n",
      "block3_conv4 (Conv2D)        (None, 25, 25, 256)       590080    \n",
      "_________________________________________________________________\n",
      "block3_pool (MaxPooling2D)   (None, 12, 12, 256)       0         \n",
      "_________________________________________________________________\n",
      "block4_conv1 (Conv2D)        (None, 12, 12, 512)       1180160   \n",
      "_________________________________________________________________\n",
      "block4_conv2 (Conv2D)        (None, 12, 12, 512)       2359808   \n",
      "_________________________________________________________________\n",
      "block4_conv3 (Conv2D)        (None, 12, 12, 512)       2359808   \n",
      "_________________________________________________________________\n",
      "block4_conv4 (Conv2D)        (None, 12, 12, 512)       2359808   \n",
      "_________________________________________________________________\n",
      "block4_pool (MaxPooling2D)   (None, 6, 6, 512)         0         \n",
      "_________________________________________________________________\n",
      "block5_conv1 (Conv2D)        (None, 6, 6, 512)         2359808   \n",
      "_________________________________________________________________\n",
      "block5_conv2 (Conv2D)        (None, 6, 6, 512)         2359808   \n",
      "_________________________________________________________________\n",
      "block5_conv3 (Conv2D)        (None, 6, 6, 512)         2359808   \n",
      "_________________________________________________________________\n",
      "block5_conv4 (Conv2D)        (None, 6, 6, 512)         2359808   \n",
      "_________________________________________________________________\n",
      "block5_pool (MaxPooling2D)   (None, 3, 3, 512)         0         \n",
      "_________________________________________________________________\n",
      "flatten_1 (Flatten)          (None, 4608)              0         \n",
      "_________________________________________________________________\n",
      "dense_3 (Dense)              (None, 1)                 4609      \n",
      "=================================================================\n",
      "Total params: 20,028,993\n",
      "Trainable params: 4,609\n",
      "Non-trainable params: 20,024,384\n",
      "_________________________________________________________________\n"
     ]
    }
   ],
   "source": [
    "#displaying the model architecture\n",
    "model.summary()"
   ]
  },
  {
   "cell_type": "code",
   "execution_count": 25,
   "metadata": {},
   "outputs": [],
   "source": [
    "model.compile(\n",
    "  loss='binary_crossentropy',\n",
    "  optimizer=\"adam\",\n",
    "  metrics=['accuracy']\n",
    ")"
   ]
  },
  {
   "cell_type": "code",
   "execution_count": 67,
   "metadata": {},
   "outputs": [
    {
     "name": "stdout",
     "output_type": "stream",
     "text": [
      "Epoch 1/25\n",
      "7/7 [==============================] - 19s 3s/step - loss: 0.5156 - accuracy: 0.7625 - val_loss: 0.5208 - val_accuracy: 0.7049\n",
      "Epoch 2/25\n",
      "7/7 [==============================] - 15s 2s/step - loss: 0.3527 - accuracy: 0.8416 - val_loss: 0.3321 - val_accuracy: 0.8852\n",
      "Epoch 3/25\n",
      "7/7 [==============================] - 18s 3s/step - loss: 0.2712 - accuracy: 0.9267 - val_loss: 0.3023 - val_accuracy: 0.9016\n",
      "Epoch 4/25\n",
      "7/7 [==============================] - 18s 3s/step - loss: 0.2360 - accuracy: 0.9238 - val_loss: 0.2790 - val_accuracy: 0.9016\n",
      "Epoch 5/25\n",
      "7/7 [==============================] - 18s 3s/step - loss: 0.1899 - accuracy: 0.9501 - val_loss: 0.2285 - val_accuracy: 0.9180\n",
      "Epoch 6/25\n",
      "7/7 [==============================] - 18s 3s/step - loss: 0.1767 - accuracy: 0.9589 - val_loss: 0.2176 - val_accuracy: 0.9180\n",
      "Epoch 7/25\n",
      "7/7 [==============================] - 17s 3s/step - loss: 0.1594 - accuracy: 0.9531 - val_loss: 0.2214 - val_accuracy: 0.9180\n",
      "Epoch 8/25\n",
      "7/7 [==============================] - 17s 3s/step - loss: 0.1479 - accuracy: 0.9619 - val_loss: 0.1925 - val_accuracy: 0.9672\n",
      "Epoch 9/25\n",
      "7/7 [==============================] - 17s 3s/step - loss: 0.1358 - accuracy: 0.9707 - val_loss: 0.1873 - val_accuracy: 0.9672\n",
      "Epoch 10/25\n",
      "7/7 [==============================] - 17s 3s/step - loss: 0.1271 - accuracy: 0.9707 - val_loss: 0.1806 - val_accuracy: 0.9672\n",
      "Epoch 11/25\n",
      "7/7 [==============================] - 17s 3s/step - loss: 0.1199 - accuracy: 0.9736 - val_loss: 0.1746 - val_accuracy: 0.9672\n",
      "Epoch 12/25\n",
      "7/7 [==============================] - 17s 3s/step - loss: 0.1143 - accuracy: 0.9736 - val_loss: 0.1648 - val_accuracy: 0.9672\n",
      "Epoch 13/25\n",
      "7/7 [==============================] - 17s 3s/step - loss: 0.1074 - accuracy: 0.9765 - val_loss: 0.1663 - val_accuracy: 0.9672\n",
      "Epoch 14/25\n",
      "7/7 [==============================] - 18s 3s/step - loss: 0.1029 - accuracy: 0.9765 - val_loss: 0.1619 - val_accuracy: 0.9672\n",
      "Epoch 15/25\n",
      "7/7 [==============================] - 18s 3s/step - loss: 0.0974 - accuracy: 0.9765 - val_loss: 0.1601 - val_accuracy: 0.9672\n",
      "Epoch 16/25\n",
      "7/7 [==============================] - 18s 3s/step - loss: 0.0959 - accuracy: 0.9765 - val_loss: 0.1474 - val_accuracy: 0.9672\n",
      "Epoch 17/25\n",
      "7/7 [==============================] - 17s 3s/step - loss: 0.0878 - accuracy: 0.9795 - val_loss: 0.1639 - val_accuracy: 0.9672\n",
      "Epoch 18/25\n",
      "7/7 [==============================] - 17s 3s/step - loss: 0.0877 - accuracy: 0.9853 - val_loss: 0.1491 - val_accuracy: 0.9672\n",
      "Epoch 19/25\n",
      "7/7 [==============================] - 17s 3s/step - loss: 0.0818 - accuracy: 0.9824 - val_loss: 0.1428 - val_accuracy: 0.9672\n",
      "Epoch 20/25\n",
      "7/7 [==============================] - 17s 3s/step - loss: 0.0799 - accuracy: 0.9795 - val_loss: 0.1407 - val_accuracy: 0.9836\n",
      "Epoch 21/25\n",
      "7/7 [==============================] - 17s 3s/step - loss: 0.0754 - accuracy: 0.9824 - val_loss: 0.1477 - val_accuracy: 0.9672\n",
      "Epoch 22/25\n",
      "7/7 [==============================] - 17s 3s/step - loss: 0.0733 - accuracy: 0.9883 - val_loss: 0.1508 - val_accuracy: 0.9672\n",
      "Epoch 23/25\n",
      "7/7 [==============================] - 17s 3s/step - loss: 0.0702 - accuracy: 0.9853 - val_loss: 0.1354 - val_accuracy: 0.9836\n",
      "Epoch 24/25\n",
      "7/7 [==============================] - 17s 3s/step - loss: 0.0671 - accuracy: 0.9853 - val_loss: 0.1432 - val_accuracy: 0.9672\n",
      "Epoch 25/25\n",
      "7/7 [==============================] - 17s 3s/step - loss: 0.0641 - accuracy: 0.9883 - val_loss: 0.1388 - val_accuracy: 0.9672\n"
     ]
    }
   ],
   "source": [
    "#training using vgg model\n",
    "history=model.fit(X_train,y_train,epochs=25,validation_data=(X_val,y_val),batch_size=50)"
   ]
  },
  {
   "cell_type": "code",
   "execution_count": 68,
   "metadata": {},
   "outputs": [
    {
     "data": {
      "text/plain": [
       "<matplotlib.axes._subplots.AxesSubplot at 0x22a1324b4a8>"
      ]
     },
     "execution_count": 68,
     "metadata": {},
     "output_type": "execute_result"
    },
    {
     "data": {
      "image/png": "[encoded data removed]",
      "text/plain": [
       "<Figure size 432x288 with 1 Axes>"
      ]
     },
     "metadata": {
      "needs_background": "light"
     },
     "output_type": "display_data"
    }
   ],
   "source": [
    "# plot of losses and accuracies, losses should decrease and accuracy should increase\n",
    "import pandas as pd\n",
    "hs=pd.DataFrame(model.history.history)\n",
    "hs.plot()"
   ]
  },
  {
   "cell_type": "code",
   "execution_count": 69,
   "metadata": {},
   "outputs": [
    {
     "data": {
      "text/plain": [
       "array([[0.9987062 ],\n",
       "       [0.999095  ],\n",
       "       [0.9922708 ],\n",
       "       [0.9814569 ],\n",
       "       [0.973678  ],\n",
       "       [0.03015482],\n",
       "       [0.9588673 ],\n",
       "       [0.713175  ],\n",
       "       [0.9965062 ],\n",
       "       [0.06195825],\n",
       "       [0.9499779 ],\n",
       "       [0.17228588],\n",
       "       [0.92904705],\n",
       "       [0.40921602],\n",
       "       [0.9914949 ],\n",
       "       [0.8972141 ],\n",
       "       [0.99649763],\n",
       "       [0.0593136 ],\n",
       "       [0.44912508],\n",
       "       [0.05287328],\n",
       "       [0.02403918],\n",
       "       [0.9817313 ],\n",
       "       [0.03600013],\n",
       "       [0.6000702 ],\n",
       "       [0.9126817 ],\n",
       "       [0.9999299 ],\n",
       "       [0.99616206],\n",
       "       [0.99985915],\n",
       "       [0.99692446],\n",
       "       [0.01447263],\n",
       "       [0.99947214],\n",
       "       [0.9924474 ],\n",
       "       [0.99665344],\n",
       "       [0.86895585],\n",
       "       [0.99928343],\n",
       "       [0.06326002],\n",
       "       [0.99815595],\n",
       "       [0.9001001 ],\n",
       "       [0.99697393],\n",
       "       [0.9931392 ],\n",
       "       [0.36457965],\n",
       "       [0.998636  ],\n",
       "       [0.88701886],\n",
       "       [0.9971221 ],\n",
       "       [0.22876346],\n",
       "       [0.1362775 ],\n",
       "       [0.99952257],\n",
       "       [0.6678661 ],\n",
       "       [0.04505792],\n",
       "       [0.01462692],\n",
       "       [0.03773242],\n",
       "       [0.98956823],\n",
       "       [0.11564595],\n",
       "       [0.9980037 ],\n",
       "       [0.7747129 ],\n",
       "       [0.9948262 ],\n",
       "       [0.03859261],\n",
       "       [0.99367774],\n",
       "       [0.9970765 ],\n",
       "       [0.01447612],\n",
       "       [0.8889587 ],\n",
       "       [0.20671406],\n",
       "       [0.03433913],\n",
       "       [0.9981226 ],\n",
       "       [0.06004968],\n",
       "       [0.99559593],\n",
       "       [0.9984391 ],\n",
       "       [0.99845636],\n",
       "       [0.9937531 ],\n",
       "       [0.4141875 ],\n",
       "       [0.9831072 ]], dtype=float32)"
      ]
     },
     "execution_count": 69,
     "metadata": {},
     "output_type": "execute_result"
    }
   ],
   "source": [
    "pred=model.predict(X_test)\n",
    "pred"
   ]
  },
  {
   "cell_type": "code",
   "execution_count": 70,
   "metadata": {},
   "outputs": [],
   "source": [
    "L=[]\n",
    "for i in pred:\n",
    "    if i>0.5:  #we can set any threshold from 0.3 to 0.9\n",
    "        L.append(1)\n",
    "    else:\n",
    "        L.append(0)"
   ]
  },
  {
   "cell_type": "code",
   "execution_count": 71,
   "metadata": {},
   "outputs": [
    {
     "data": {
      "text/plain": [
       "array([1, 1, 1, 1, 1, 0, 1, 1, 1, 0, 1, 0, 1, 0, 1, 1, 1, 0, 0, 0, 0, 1,\n",
       "       0, 1, 1, 1, 1, 1, 1, 0, 1, 1, 1, 1, 1, 0, 1, 1, 1, 1, 0, 1, 1, 1,\n",
       "       0, 0, 1, 1, 0, 0, 0, 1, 0, 1, 1, 1, 0, 1, 1, 0, 1, 0, 0, 1, 0, 1,\n",
       "       1, 1, 1, 0, 1])"
      ]
     },
     "execution_count": 71,
     "metadata": {},
     "output_type": "execute_result"
    }
   ],
   "source": [
    "p=np.array(L)\n",
    "p"
   ]
  },
  {
   "cell_type": "code",
   "execution_count": 72,
   "metadata": {},
   "outputs": [
    {
     "name": "stdout",
     "output_type": "stream",
     "text": [
      "              precision    recall  f1-score   support\n",
      "\n",
      "           0       0.96      0.88      0.92        26\n",
      "           1       0.94      0.98      0.96        45\n",
      "\n",
      "    accuracy                           0.94        71\n",
      "   macro avg       0.95      0.93      0.94        71\n",
      "weighted avg       0.94      0.94      0.94        71\n",
      "\n"
     ]
    }
   ],
   "source": [
    "from sklearn.metrics import classification_report\n",
    "print(classification_report(y_test,p))"
   ]
  },
  {
   "cell_type": "code",
   "execution_count": 32,
   "metadata": {},
   "outputs": [],
   "source": [
    "#need to have image in current directory\n",
    "sample=plt.imread('varun photo.jpeg')"
   ]
  },
  {
   "cell_type": "code",
   "execution_count": 33,
   "metadata": {},
   "outputs": [],
   "source": [
    "s=resize(sample,(100,100))"
   ]
  },
  {
   "cell_type": "code",
   "execution_count": 34,
   "metadata": {},
   "outputs": [
    {
     "data": {
      "text/plain": [
       "(100, 100, 3)"
      ]
     },
     "execution_count": 34,
     "metadata": {},
     "output_type": "execute_result"
    }
   ],
   "source": [
    "s.shape"
   ]
  },
  {
   "cell_type": "code",
   "execution_count": 35,
   "metadata": {},
   "outputs": [
    {
     "data": {
      "text/plain": [
       "<matplotlib.image.AxesImage at 0x22a142f89e8>"
      ]
     },
     "execution_count": 35,
     "metadata": {},
     "output_type": "execute_result"
    },
    {
     "data": {
      "image/png": "[encoded data removed]",
      "text/plain": [
       "<Figure size 432x288 with 1 Axes>"
      ]
     },
     "metadata": {
      "needs_background": "light"
     },
     "output_type": "display_data"
    }
   ],
   "source": [
    "plt.imshow(s)"
   ]
  },
  {
   "cell_type": "code",
   "execution_count": 36,
   "metadata": {},
   "outputs": [],
   "source": [
    "s=s.reshape(1,100,100,3)"
   ]
  },
  {
   "cell_type": "code",
   "execution_count": 37,
   "metadata": {},
   "outputs": [
    {
     "data": {
      "text/plain": [
       "array([[0.97173274]], dtype=float32)"
      ]
     },
     "execution_count": 37,
     "metadata": {},
     "output_type": "execute_result"
    }
   ],
   "source": [
    "model.predict(s)"
   ]
  },
  {
   "cell_type": "code",
   "execution_count": 212,
   "metadata": {},
   "outputs": [],
   "source": [
    "x = Flatten()(vgg.output)\n",
    "prediction = Dense(1, activation='sigmoid')(x)\n",
    "#creating model\n",
    "model2 = Model(inputs=vgg.input, outputs=prediction)"
   ]
  },
  {
   "cell_type": "code",
   "execution_count": 213,
   "metadata": {},
   "outputs": [],
   "source": [
    "model2.compile(\n",
    "  loss='binary_crossentropy',\n",
    "  optimizer=\"adam\",\n",
    "  metrics=['accuracy']\n",
    ")"
   ]
  },
  {
   "cell_type": "code",
   "execution_count": 214,
   "metadata": {},
   "outputs": [],
   "source": [
    "# datA augmentation creates new images by rotating, width shifting etc which lets our model not to overfit\n",
    "aug=ImageDataGenerator(\n",
    "    featurewise_center=False,\n",
    "    samplewise_center=False,\n",
    "    featurewise_std_normalization=False,\n",
    "    samplewise_std_normalization=False,\n",
    "    zca_whitening=False,\n",
    "    rotation_range=45,\n",
    "    width_shift_range=0.1,\n",
    "    height_shift_range=0.1,\n",
    "    shear_range=0.1,\n",
    "    zoom_range=0.1,\n",
    "    channel_shift_range=0.0,\n",
    "    fill_mode='nearest',\n",
    "    cval=0.0,\n",
    "    horizontal_flip=True,\n",
    "    vertical_flip=True,\n",
    "    rescale=None,\n",
    "    preprocessing_function=None,\n",
    "    data_format=None,\n",
    "    validation_split=0.0,\n",
    "    dtype=None,)"
   ]
  },
  {
   "cell_type": "code",
   "execution_count": 215,
   "metadata": {
    "scrolled": true
   },
   "outputs": [
    {
     "name": "stdout",
     "output_type": "stream",
     "text": [
      "Epoch 1/25\n",
      "11/11 [==============================] - 17s 2s/step - loss: 0.6127 - accuracy: 0.6774 - val_loss: 0.4331 - val_accuracy: 0.8361\n",
      "Epoch 2/25\n",
      "11/11 [==============================] - 16s 1s/step - loss: 0.3904 - accuracy: 0.8651 - val_loss: 0.3576 - val_accuracy: 0.8852\n",
      "Epoch 3/25\n",
      "11/11 [==============================] - 19s 2s/step - loss: 0.3279 - accuracy: 0.9003 - val_loss: 0.2619 - val_accuracy: 0.9016\n",
      "Epoch 4/25\n",
      "11/11 [==============================] - 18s 2s/step - loss: 0.2975 - accuracy: 0.9091 - val_loss: 0.2351 - val_accuracy: 0.9016\n",
      "Epoch 5/25\n",
      "11/11 [==============================] - 18s 2s/step - loss: 0.2432 - accuracy: 0.9091 - val_loss: 0.2182 - val_accuracy: 0.9180\n",
      "Epoch 6/25\n",
      "11/11 [==============================] - 18s 2s/step - loss: 0.2305 - accuracy: 0.9267 - val_loss: 0.1892 - val_accuracy: 0.9508\n",
      "Epoch 7/25\n",
      "11/11 [==============================] - 19s 2s/step - loss: 0.2249 - accuracy: 0.9179 - val_loss: 0.1983 - val_accuracy: 0.9344\n",
      "Epoch 8/25\n",
      "11/11 [==============================] - 18s 2s/step - loss: 0.2172 - accuracy: 0.9238 - val_loss: 0.1756 - val_accuracy: 0.9344\n",
      "Epoch 9/25\n",
      "11/11 [==============================] - 19s 2s/step - loss: 0.1975 - accuracy: 0.9472 - val_loss: 0.1637 - val_accuracy: 0.9672\n",
      "Epoch 10/25\n",
      "11/11 [==============================] - 21s 2s/step - loss: 0.1802 - accuracy: 0.9443 - val_loss: 0.1664 - val_accuracy: 0.9508\n",
      "Epoch 11/25\n",
      "11/11 [==============================] - 17s 2s/step - loss: 0.1765 - accuracy: 0.9384 - val_loss: 0.1478 - val_accuracy: 0.9672\n",
      "Epoch 12/25\n",
      "11/11 [==============================] - 20s 2s/step - loss: 0.1852 - accuracy: 0.9501 - val_loss: 0.1536 - val_accuracy: 0.9508\n",
      "Epoch 13/25\n",
      "11/11 [==============================] - 20s 2s/step - loss: 0.1713 - accuracy: 0.9472 - val_loss: 0.1371 - val_accuracy: 0.9672\n",
      "Epoch 14/25\n",
      "11/11 [==============================] - 20s 2s/step - loss: 0.1802 - accuracy: 0.9443 - val_loss: 0.1637 - val_accuracy: 0.9344\n",
      "Epoch 15/25\n",
      "11/11 [==============================] - 20s 2s/step - loss: 0.1767 - accuracy: 0.9413 - val_loss: 0.1266 - val_accuracy: 0.9672\n",
      "Epoch 16/25\n",
      "11/11 [==============================] - 18s 2s/step - loss: 0.1645 - accuracy: 0.9443 - val_loss: 0.1663 - val_accuracy: 0.9180\n",
      "Epoch 17/25\n",
      "11/11 [==============================] - 18s 2s/step - loss: 0.1690 - accuracy: 0.9589 - val_loss: 0.1226 - val_accuracy: 0.9672\n",
      "Epoch 18/25\n",
      "11/11 [==============================] - 18s 2s/step - loss: 0.1702 - accuracy: 0.9413 - val_loss: 0.1577 - val_accuracy: 0.9180\n",
      "Epoch 19/25\n",
      "11/11 [==============================] - 19s 2s/step - loss: 0.1720 - accuracy: 0.9501 - val_loss: 0.1204 - val_accuracy: 0.9672\n",
      "Epoch 20/25\n",
      "11/11 [==============================] - 20s 2s/step - loss: 0.1523 - accuracy: 0.9619 - val_loss: 0.1178 - val_accuracy: 0.9672\n",
      "Epoch 21/25\n",
      "11/11 [==============================] - 18s 2s/step - loss: 0.1609 - accuracy: 0.9413 - val_loss: 0.1268 - val_accuracy: 0.9344\n",
      "Epoch 22/25\n",
      "11/11 [==============================] - 18s 2s/step - loss: 0.1662 - accuracy: 0.9355 - val_loss: 0.1299 - val_accuracy: 0.9344\n",
      "Epoch 23/25\n",
      "11/11 [==============================] - 18s 2s/step - loss: 0.1387 - accuracy: 0.9589 - val_loss: 0.1281 - val_accuracy: 0.9508\n",
      "Epoch 24/25\n",
      "11/11 [==============================] - 18s 2s/step - loss: 0.1425 - accuracy: 0.9531 - val_loss: 0.1153 - val_accuracy: 0.9508\n",
      "Epoch 25/25\n",
      "11/11 [==============================] - 18s 2s/step - loss: 0.1394 - accuracy: 0.9589 - val_loss: 0.1212 - val_accuracy: 0.9344\n"
     ]
    }
   ],
   "source": [
    "history=model2.fit(aug.flow(X_train,y_train,batch_size=32),epochs=25,validation_data=(X_val,y_val),batch_size=32)"
   ]
  },
  {
   "cell_type": "code",
   "execution_count": 216,
   "metadata": {},
   "outputs": [
    {
     "data": {
      "text/plain": [
       "<matplotlib.axes._subplots.AxesSubplot at 0x22a884f2128>"
      ]
     },
     "execution_count": 216,
     "metadata": {},
     "output_type": "execute_result"
    },
    {
     "data": {
      "image/png": "[encoded data removed]",
      "text/plain": [
       "<Figure size 432x288 with 1 Axes>"
      ]
     },
     "metadata": {
      "needs_background": "light"
     },
     "output_type": "display_data"
    }
   ],
   "source": [
    "import pandas as pd\n",
    "hs=pd.DataFrame(model2.history.history)\n",
    "hs.plot()"
   ]
  },
  {
   "cell_type": "code",
   "execution_count": 217,
   "metadata": {
    "collapsed": true
   },
   "outputs": [
    {
     "name": "stdout",
     "output_type": "stream",
     "text": [
      "WARNING:tensorflow:5 out of the last 13 calls to <function Model.make_predict_function.<locals>.predict_function at 0x0000022A25C2B620> triggered tf.function retracing. Tracing is expensive and the excessive number of tracings could be due to (1) creating @tf.function repeatedly in a loop, (2) passing tensors with different shapes, (3) passing Python objects instead of tensors. For (1), please define your @tf.function outside of the loop. For (2), @tf.function has experimental_relax_shapes=True option that relaxes argument shapes that can avoid unnecessary retracing. For (3), please refer to https://www.tensorflow.org/guide/function#controlling_retracing and https://www.tensorflow.org/api_docs/python/tf/function for  more details.\n"
     ]
    },
    {
     "data": {
      "text/plain": [
       "array([[0.99814373],\n",
       "       [0.9997245 ],\n",
       "       [0.9884093 ],\n",
       "       [0.9917424 ],\n",
       "       [0.992978  ],\n",
       "       [0.04118487],\n",
       "       [0.9550686 ],\n",
       "       [0.4172446 ],\n",
       "       [0.99853146],\n",
       "       [0.09285665],\n",
       "       [0.97224295],\n",
       "       [0.15236405],\n",
       "       [0.97554934],\n",
       "       [0.48325053],\n",
       "       [0.99071574],\n",
       "       [0.9570594 ],\n",
       "       [0.9881393 ],\n",
       "       [0.08984056],\n",
       "       [0.33087057],\n",
       "       [0.07132193],\n",
       "       [0.03576788],\n",
       "       [0.9321871 ],\n",
       "       [0.02496698],\n",
       "       [0.6508912 ],\n",
       "       [0.96051663],\n",
       "       [0.9999827 ],\n",
       "       [0.9958166 ],\n",
       "       [0.9998454 ],\n",
       "       [0.99976206],\n",
       "       [0.02488112],\n",
       "       [0.99960023],\n",
       "       [0.9915986 ],\n",
       "       [0.99814403],\n",
       "       [0.9175374 ],\n",
       "       [0.99932575],\n",
       "       [0.04945803],\n",
       "       [0.9993136 ],\n",
       "       [0.95897627],\n",
       "       [0.99917024],\n",
       "       [0.9942139 ],\n",
       "       [0.3667814 ],\n",
       "       [0.99766046],\n",
       "       [0.9665886 ],\n",
       "       [0.9972114 ],\n",
       "       [0.11141455],\n",
       "       [0.2196841 ],\n",
       "       [0.9999443 ],\n",
       "       [0.6772256 ],\n",
       "       [0.02624178],\n",
       "       [0.0278796 ],\n",
       "       [0.07606265],\n",
       "       [0.99359506],\n",
       "       [0.12214687],\n",
       "       [0.99709034],\n",
       "       [0.8780246 ],\n",
       "       [0.99885464],\n",
       "       [0.03901553],\n",
       "       [0.983811  ],\n",
       "       [0.998278  ],\n",
       "       [0.02650666],\n",
       "       [0.9457011 ],\n",
       "       [0.10172132],\n",
       "       [0.05300114],\n",
       "       [0.99858946],\n",
       "       [0.07762885],\n",
       "       [0.9944184 ],\n",
       "       [0.9927262 ],\n",
       "       [0.99577045],\n",
       "       [0.99797016],\n",
       "       [0.42312598],\n",
       "       [0.96097773]], dtype=float32)"
      ]
     },
     "execution_count": 217,
     "metadata": {},
     "output_type": "execute_result"
    }
   ],
   "source": [
    "pred=model2.predict(X_test)\n",
    "pred"
   ]
  },
  {
   "cell_type": "code",
   "execution_count": 218,
   "metadata": {},
   "outputs": [],
   "source": [
    "L=[]\n",
    "for i in pred:\n",
    "    if i>0.6:  #we can set any threshold from 0.3 to 0.9\n",
    "        L.append(1)\n",
    "    else:\n",
    "        L.append(0)"
   ]
  },
  {
   "cell_type": "code",
   "execution_count": 219,
   "metadata": {},
   "outputs": [
    {
     "data": {
      "text/plain": [
       "array([1, 1, 1, 1, 1, 0, 1, 0, 1, 0, 1, 0, 1, 0, 1, 1, 1, 0, 0, 0, 0, 1,\n",
       "       0, 1, 1, 1, 1, 1, 1, 0, 1, 1, 1, 1, 1, 0, 1, 1, 1, 1, 0, 1, 1, 1,\n",
       "       0, 0, 1, 1, 0, 0, 0, 1, 0, 1, 1, 1, 0, 1, 1, 0, 1, 0, 0, 1, 0, 1,\n",
       "       1, 1, 1, 0, 1])"
      ]
     },
     "execution_count": 219,
     "metadata": {},
     "output_type": "execute_result"
    }
   ],
   "source": [
    "p=np.array(L)\n",
    "p"
   ]
  },
  {
   "cell_type": "code",
   "execution_count": 220,
   "metadata": {},
   "outputs": [
    {
     "name": "stdout",
     "output_type": "stream",
     "text": [
      "              precision    recall  f1-score   support\n",
      "\n",
      "           0       0.96      0.92      0.94        26\n",
      "           1       0.96      0.98      0.97        45\n",
      "\n",
      "    accuracy                           0.96        71\n",
      "   macro avg       0.96      0.95      0.95        71\n",
      "weighted avg       0.96      0.96      0.96        71\n",
      "\n"
     ]
    }
   ],
   "source": [
    "from sklearn.metrics import classification_report\n",
    "print(classification_report(y_test,p))"
   ]
  },
  {
   "cell_type": "code",
   "execution_count": null,
   "metadata": {},
   "outputs": [],
   "source": []
  }
 ],
 "metadata": {
  "kernelspec": {
   "display_name": "Python 3",
   "language": "python",
   "name": "python3"
  },
  "language_info": {
   "codemirror_mode": {
    "name": "ipython",
    "version": 3
   },
   "file_extension": ".py",
   "mimetype": "text/x-python",
   "name": "python",
   "nbconvert_exporter": "python",
   "pygments_lexer": "ipython3",
   "version": "3.6.10"
  }
 },
 "nbformat": 4,
 "nbformat_minor": 4
}
